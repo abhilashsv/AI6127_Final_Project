{
 "cells": [
  {
   "cell_type": "code",
   "execution_count": 122,
   "id": "3a1d27bb",
   "metadata": {},
   "outputs": [
    {
     "name": "stdout",
     "output_type": "stream",
     "text": [
      "Finish processing data list: 4500\n"
     ]
    }
   ],
   "source": [
    "# Process script data into one compiled excel sheet for Part 5/6 Debate, Finance, Emotion / Call Centre Data\n",
    "\n",
    "import textgrid\n",
    "import os\n",
    "\n",
    "root_dir = './FinanceEmotion/' \n",
    "folder_name = \"Finance + Emotions Audio\"\n",
    "file_list = os.listdir(root_dir)\n",
    "\n",
    "\n",
    "def extract_text(tg):\n",
    "    str = \"\"\n",
    "    for i in tg[0]:\n",
    "        str += i.mark + \" \"\n",
    "    return str\n",
    "\n",
    "#filename = \"./CallCentre3/app_0302_0018_phnd_cc-hol.TextGrid\"\n",
    "data_list = []\n",
    "for i, filename in enumerate(file_list):\n",
    "    #print(\"Processing: \", i, filename)\n",
    "    # File name\n",
    "    transcript_filename = filename\n",
    "    \n",
    "    # Video name\n",
    "    filename_detail_list = filename.split('_')\n",
    "    dir1 = filename_detail_list[0]\n",
    "    dir2 = filename_detail_list[1]\n",
    "    video_filename = folder_name +\"/\"+ dir1 +\"/\"+ dir2 + filename[:-8] + \"wav\"\n",
    "    try:\n",
    "        # Comprehensive transcript\n",
    "        tg = textgrid.TextGrid.fromFile(root_dir + filename)\n",
    "        compre_transcript = extract_text(tg)\n",
    "    except Exception as ve:\n",
    "        print(f\"error: {ve}, filename: {filename}\")\n",
    "    data_list.append([transcript_filename, video_filename, compre_transcript, \" \"])\n",
    "print(f\"Finish processing data list: {len(data_list)}\")\n",
    "    \n",
    "# Open the file in write mode\n",
    "with open(folder_name + \".csv\", \"w\", encoding=\"utf-8\") as file:\n",
    "    # Iterate over the list and write each string to the file\n",
    "    file.write(\"Transcript Filename, Video Filename, Comprehensive Transcript, Importance\" + \"\\n\")\n",
    "    \n",
    "    for i, item in enumerate(data_list):        \n",
    "        file.write(\",\".join(item) + \"0\" +  \"\\n\")"
   ]
  },
  {
   "cell_type": "code",
   "execution_count": null,
   "id": "7b5209ed",
   "metadata": {},
   "outputs": [],
   "source": []
  }
 ],
 "metadata": {
  "kernelspec": {
   "display_name": "Python 3 (ipykernel)",
   "language": "python",
   "name": "python3"
  },
  "language_info": {
   "codemirror_mode": {
    "name": "ipython",
    "version": 3
   },
   "file_extension": ".py",
   "mimetype": "text/x-python",
   "name": "python",
   "nbconvert_exporter": "python",
   "pygments_lexer": "ipython3",
   "version": "3.10.9"
  }
 },
 "nbformat": 4,
 "nbformat_minor": 5
}
